{
 "metadata": {
  "celltoolbar": "Slideshow",
  "name": "",
  "signature": "sha256:9a0a3b9a2f09a932abdce8e45ea3bbd4884eebbdb3590687b3db673f1b7c5eea"
 },
 "nbformat": 3,
 "nbformat_minor": 0,
 "worksheets": [
  {
   "cells": [
    {
     "cell_type": "code",
     "collapsed": false,
     "input": [
      "!rm -fR docs\n",
      "!mkdir docs\n",
      "!rm docsample/*.pyc"
     ],
     "language": "python",
     "metadata": {
      "slideshow": {
       "slide_type": "skip"
      }
     },
     "outputs": [],
     "prompt_number": 1
    },
    {
     "cell_type": "markdown",
     "metadata": {
      "slideshow": {
       "slide_type": "slide"
      }
     },
     "source": [
      "<h1 align=\"center\" class=\"title\">Less painfull documentation with Python</h1>\n",
      "\n",
      "<h3 align=\"right\" class=\"subtitle\">By Nickolas Grigoriadis</h3>\n",
      "<h5 align=\"right\" class=\"subtitle\">Internet Solutions</h5>\n",
      "\n",
      "<img src=\"images/python-logo.png\"/>\n",
      "<img src=\"images/is-logo.png\"/>\n"
     ]
    },
    {
     "cell_type": "markdown",
     "metadata": {
      "slideshow": {
       "slide_type": "slide"
      }
     },
     "source": [
      "# This Presentation\n",
      "\n",
      "In this presentation I intend to give you a primer of some built-in documentation abilities of Python, and how to get started using Sphinx-doc.\n",
      "\n",
      "I will also discuss methods we used to make keeping documentation up-to-date a bit easier.\n",
      "\n",
      "<h3>This presentation is available at:<br/><a href=\"http://bit.ly/1v3po5z\">http://bit.ly/1v3po5z</a></h3>\n",
      "\n",
      "\n"
     ]
    },
    {
     "cell_type": "markdown",
     "metadata": {
      "slideshow": {
       "slide_type": "slide"
      }
     },
     "source": [
      "# About Me\n",
      "\n",
      "I'm currently a developer at Internet Solutions, have been writing code since I was 11, and a professional developer for over 10 years now."
     ]
    },
    {
     "cell_type": "markdown",
     "metadata": {
      "slideshow": {
       "slide_type": "fragment"
      }
     },
     "source": [
      "<div align=\"center\">I'm also a dad... ![](images/ben_small.jpg)</div>"
     ]
    },
    {
     "cell_type": "raw",
     "metadata": {},
     "source": [
      "<br/><br/><br/><br/><br/><br/><br/><br/><br/><br/><br/><br/><br/><br/><br/><br/>"
     ]
    },
    {
     "cell_type": "markdown",
     "metadata": {
      "slideshow": {
       "slide_type": "slide"
      }
     },
     "source": [
      "# Documentation\n",
      "\n",
      "Sigh, Documentation\n",
      "\n"
     ]
    },
    {
     "cell_type": "markdown",
     "metadata": {
      "slideshow": {
       "slide_type": "fragment"
      }
     },
     "source": [
      "* Reading useful documentation is awesome!"
     ]
    },
    {
     "cell_type": "markdown",
     "metadata": {
      "slideshow": {
       "slide_type": "fragment"
      }
     },
     "source": [
      "* Cringe if I have to write it."
     ]
    },
    {
     "cell_type": "raw",
     "metadata": {},
     "source": [
      "<br/><br/><br/><br/><br/><br/><br/><br/><br/><br/><br/><br/><br/><br/><br/><br/>"
     ]
    },
    {
     "cell_type": "markdown",
     "metadata": {
      "slideshow": {
       "slide_type": "slide"
      }
     },
     "source": [
      "# Useful Documentation\n",
      "\n",
      "What is useful documentation?\n"
     ]
    },
    {
     "cell_type": "markdown",
     "metadata": {
      "slideshow": {
       "slide_type": "fragment"
      }
     },
     "source": [
      "* Targets the right audience."
     ]
    },
    {
     "cell_type": "markdown",
     "metadata": {
      "slideshow": {
       "slide_type": "fragment"
      }
     },
     "source": [
      "* Easy to find relevant information."
     ]
    },
    {
     "cell_type": "markdown",
     "metadata": {
      "slideshow": {
       "slide_type": "fragment"
      }
     },
     "source": [
      "* Technically correct."
     ]
    },
    {
     "cell_type": "markdown",
     "metadata": {
      "slideshow": {
       "slide_type": "fragment"
      }
     },
     "source": [
      "* Complete."
     ]
    },
    {
     "cell_type": "raw",
     "metadata": {},
     "source": [
      "<br/><br/><br/><br/><br/><br/><br/><br/><br/><br/><br/><br/><br/><br/><br/><br/>"
     ]
    },
    {
     "cell_type": "markdown",
     "metadata": {
      "slideshow": {
       "slide_type": "slide"
      }
     },
     "source": [
      "# Useless Documentation\n",
      "\n",
      "What makes documentation essentially useless?"
     ]
    },
    {
     "cell_type": "markdown",
     "metadata": {
      "slideshow": {
       "slide_type": "fragment"
      }
     },
     "source": [
      "Pretty much the inverse of any of the previous slides points."
     ]
    },
    {
     "cell_type": "markdown",
     "metadata": {
      "slideshow": {
       "slide_type": "fragment"
      }
     },
     "source": [
      "Incomplete documentation can still be useful."
     ]
    },
    {
     "cell_type": "markdown",
     "metadata": {
      "slideshow": {
       "slide_type": "fragment"
      }
     },
     "source": [
      "But, incorrect/out-of-date documentation is worse than no documentation!"
     ]
    },
    {
     "cell_type": "raw",
     "metadata": {},
     "source": [
      "<br/><br/><br/><br/><br/><br/><br/><br/><br/><br/><br/><br/><br/><br/><br/><br/>"
     ]
    },
    {
     "cell_type": "markdown",
     "metadata": {
      "slideshow": {
       "slide_type": "slide"
      }
     },
     "source": [
      "# Self Documenting code"
     ]
    },
    {
     "cell_type": "markdown",
     "metadata": {
      "slideshow": {
       "slide_type": "fragment"
      }
     },
     "source": [
      "Ah, that myth I hear every so often."
     ]
    },
    {
     "cell_type": "markdown",
     "metadata": {
      "slideshow": {
       "slide_type": "fragment"
      }
     },
     "source": [
      "If computers could generate documentation, that carries intent and purpose without any input from its creator, it may as well take over the world."
     ]
    },
    {
     "cell_type": "markdown",
     "metadata": {
      "slideshow": {
       "slide_type": "fragment"
      }
     },
     "source": [
      "Though, there was some promising and useful work done in this direction.\n",
      "\n",
      "e.g. Doxygen, JavaDoc, etc\u2026"
     ]
    },
    {
     "cell_type": "markdown",
     "metadata": {
      "slideshow": {
       "slide_type": "fragment"
      }
     },
     "source": [
      "These tools can generate documentation that is accurate, but completely devoid of intent and purpose."
     ]
    },
    {
     "cell_type": "raw",
     "metadata": {},
     "source": [
      "<br/><br/><br/><br/><br/><br/><br/><br/><br/><br/><br/><br/><br/><br/><br/><br/>"
     ]
    },
    {
     "cell_type": "markdown",
     "metadata": {
      "slideshow": {
       "slide_type": "slide"
      }
     },
     "source": [
      "# Self documenting code - cont"
     ]
    },
    {
     "cell_type": "markdown",
     "metadata": {
      "slideshow": {
       "slide_type": "fragment"
      }
     },
     "source": [
      "You have to add comments to your code which \u2018helps\u2019 the documentation generator make more readable documentation."
     ]
    },
    {
     "cell_type": "markdown",
     "metadata": {
      "slideshow": {
       "slide_type": "fragment"
      }
     },
     "source": [
      "Ultimately the documentation often ends up as a documentation of the application internals, whilst useful, not necessarily targeting the right audience or complete."
     ]
    },
    {
     "cell_type": "raw",
     "metadata": {},
     "source": [
      "<br/><br/><br/><br/><br/><br/><br/><br/><br/><br/><br/><br/><br/><br/><br/><br/>"
     ]
    },
    {
     "cell_type": "markdown",
     "metadata": {
      "slideshow": {
       "slide_type": "slide"
      }
     },
     "source": [
      "# How does Python help?\n",
      "\n",
      "Due in part to how python developed as a language (PEP), and its introspection abilities, Python has several ways of helping generating documentation.\n",
      "\n",
      "There are several useful built-in functions one can use:"
     ]
    },
    {
     "cell_type": "markdown",
     "metadata": {
      "slideshow": {
       "slide_type": "fragment"
      }
     },
     "source": [
      "* Returns a list of sub-objects<br/>\n",
      "  **dir()**"
     ]
    },
    {
     "cell_type": "markdown",
     "metadata": {
      "slideshow": {
       "slide_type": "fragment"
      }
     },
     "source": [
      "* Generates help text on object<br/>\n",
      "  **help()**"
     ]
    },
    {
     "cell_type": "markdown",
     "metadata": {
      "slideshow": {
       "slide_type": "fragment"
      }
     },
     "source": [
      "* Docstrings<br/>\n",
      "  Docstrings is the first string literal after a function/class definition."
     ]
    },
    {
     "cell_type": "raw",
     "metadata": {},
     "source": [
      "<br/><br/><br/><br/><br/><br/><br/><br/><br/><br/><br/><br/><br/><br/><br/><br/>"
     ]
    },
    {
     "cell_type": "heading",
     "level": 2,
     "metadata": {
      "slideshow": {
       "slide_type": "slide"
      }
     },
     "source": [
      "dir() helper function"
     ]
    },
    {
     "cell_type": "code",
     "collapsed": false,
     "input": [
      "dir(__builtin__)[75:100]"
     ],
     "language": "python",
     "metadata": {
      "slideshow": {
       "slide_type": "fragment"
      }
     },
     "outputs": [
      {
       "metadata": {},
       "output_type": "pyout",
       "prompt_number": 2,
       "text": [
        "['compile',\n",
        " 'complex',\n",
        " 'copyright',\n",
        " 'credits',\n",
        " 'delattr',\n",
        " 'dict',\n",
        " 'dir',\n",
        " 'divmod',\n",
        " 'dreload',\n",
        " 'enumerate',\n",
        " 'eval',\n",
        " 'execfile',\n",
        " 'file',\n",
        " 'filter',\n",
        " 'float',\n",
        " 'format',\n",
        " 'frozenset',\n",
        " 'get_ipython',\n",
        " 'getattr',\n",
        " 'globals',\n",
        " 'hasattr',\n",
        " 'hash',\n",
        " 'help',\n",
        " 'hex',\n",
        " 'id']"
       ]
      }
     ],
     "prompt_number": 2
    },
    {
     "cell_type": "raw",
     "metadata": {},
     "source": [
      "<br/><br/><br/><br/><br/><br/><br/><br/><br/><br/><br/><br/><br/><br/><br/><br/>"
     ]
    },
    {
     "cell_type": "heading",
     "level": 2,
     "metadata": {
      "slideshow": {
       "slide_type": "slide"
      }
     },
     "source": [
      "help() function"
     ]
    },
    {
     "cell_type": "code",
     "collapsed": false,
     "input": [
      "help(enumerate)"
     ],
     "language": "python",
     "metadata": {
      "slideshow": {
       "slide_type": "fragment"
      }
     },
     "outputs": [
      {
       "output_type": "stream",
       "stream": "stdout",
       "text": [
        "Help on class enumerate in module __builtin__:\n",
        "\n",
        "class enumerate(object)\n",
        " |  enumerate(iterable[, start]) -> iterator for index, value of iterable\n",
        " |  \n",
        " |  Return an enumerate object.  iterable must be another object that supports\n",
        " |  iteration.  The enumerate object yields pairs containing a count (from\n",
        " |  start, which defaults to zero) and a value yielded by the iterable argument.\n",
        " |  enumerate is useful for obtaining an indexed list:\n",
        " |      (0, seq[0]), (1, seq[1]), (2, seq[2]), ...\n",
        " |  \n",
        " |  Methods defined here:\n",
        " |  \n",
        " |  __getattribute__(...)\n",
        " |      x.__getattribute__('name') <==> x.name\n",
        " |  \n",
        " |  __iter__(...)\n",
        " |      x.__iter__() <==> iter(x)\n",
        " |  \n",
        " |  next(...)\n",
        " |      x.next() -> the next value, or raise StopIteration\n",
        " |  \n",
        " |  ----------------------------------------------------------------------\n",
        " |  Data and other attributes defined here:\n",
        " |  \n",
        " |  __new__ = <built-in method __new__ of type object>\n",
        " |      T.__new__(S, ...) -> a new object with type S, a subtype of T\n",
        "\n"
       ]
      }
     ],
     "prompt_number": 3
    },
    {
     "cell_type": "raw",
     "metadata": {},
     "source": [
      "<br/><br/><br/><br/><br/><br/><br/><br/><br/><br/><br/><br/><br/><br/><br/><br/>"
     ]
    },
    {
     "cell_type": "heading",
     "level": 2,
     "metadata": {
      "slideshow": {
       "slide_type": "slide"
      }
     },
     "source": [
      "Basic docstring:"
     ]
    },
    {
     "cell_type": "code",
     "collapsed": false,
     "input": [
      "def greet(person):\n",
      "    '''\n",
      "    Prints a greeting to <person>\n",
      "    '''\n",
      "    print \"Greetings, %s\" % person"
     ],
     "language": "python",
     "metadata": {
      "slideshow": {
       "slide_type": "fragment"
      }
     },
     "outputs": [],
     "prompt_number": 4
    },
    {
     "cell_type": "code",
     "collapsed": false,
     "input": [
      "help(greet)"
     ],
     "language": "python",
     "metadata": {
      "slideshow": {
       "slide_type": "fragment"
      }
     },
     "outputs": [
      {
       "output_type": "stream",
       "stream": "stdout",
       "text": [
        "Help on function greet in module __main__:\n",
        "\n",
        "greet(person)\n",
        "    Prints a greeting to <person>\n",
        "\n"
       ]
      }
     ],
     "prompt_number": 5
    },
    {
     "cell_type": "raw",
     "metadata": {},
     "source": [
      "<br/><br/><br/><br/><br/><br/><br/><br/><br/><br/><br/><br/><br/><br/><br/><br/>"
     ]
    },
    {
     "cell_type": "heading",
     "level": 2,
     "metadata": {
      "slideshow": {
       "slide_type": "slide"
      }
     },
     "source": [
      "Programatically set docstring"
     ]
    },
    {
     "cell_type": "code",
     "collapsed": false,
     "input": [
      "def greet(person):\n",
      "    print \"Greetings, %s\" % person\n",
      "greet.__doc__ = \"Programatically set docstring\""
     ],
     "language": "python",
     "metadata": {
      "slideshow": {
       "slide_type": "fragment"
      }
     },
     "outputs": [],
     "prompt_number": 6
    },
    {
     "cell_type": "code",
     "collapsed": false,
     "input": [
      "help(greet)"
     ],
     "language": "python",
     "metadata": {
      "slideshow": {
       "slide_type": "fragment"
      }
     },
     "outputs": [
      {
       "output_type": "stream",
       "stream": "stdout",
       "text": [
        "Help on function greet in module __main__:\n",
        "\n",
        "greet(person)\n",
        "    Programatically set docstring\n",
        "\n"
       ]
      }
     ],
     "prompt_number": 7
    },
    {
     "cell_type": "raw",
     "metadata": {},
     "source": [
      "<br/><br/><br/><br/><br/><br/><br/><br/><br/><br/><br/><br/><br/><br/><br/><br/>"
     ]
    },
    {
     "cell_type": "heading",
     "level": 2,
     "metadata": {
      "slideshow": {
       "slide_type": "slide"
      }
     },
     "source": [
      "Docstring that self-generates"
     ]
    },
    {
     "cell_type": "code",
     "collapsed": false,
     "input": [
      "PERSONS = ('milkman', 'raz', 'secret agent')\n",
      "\n",
      "def greet(person):\n",
      "    '''\n",
      "    Prints a greeting to <person> if <person> is recognised, else it tells you to go away.\n",
      "    Allowed chars are:\n",
      "    {person_list}\n",
      "    '''\n",
      "    if person not in CHARACTERS:\n",
      "        print \"Go away!\"\n",
      "    else:\n",
      "        print \"Greetings, %s\" % person\n",
      "greet.__doc__ = greet.__doc__.format(person_list=PERSONS)"
     ],
     "language": "python",
     "metadata": {
      "slideshow": {
       "slide_type": "fragment"
      }
     },
     "outputs": [],
     "prompt_number": 8
    },
    {
     "cell_type": "code",
     "collapsed": false,
     "input": [
      "help(greet)"
     ],
     "language": "python",
     "metadata": {
      "slideshow": {
       "slide_type": "fragment"
      }
     },
     "outputs": [
      {
       "output_type": "stream",
       "stream": "stdout",
       "text": [
        "Help on function greet in module __main__:\n",
        "\n",
        "greet(person)\n",
        "    Prints a greeting to <person> if <person> is recognised, else it tells you to go away.\n",
        "    Allowed chars are:\n",
        "    ('milkman', 'raz', 'secret agent')\n",
        "\n"
       ]
      }
     ],
     "prompt_number": 9
    },
    {
     "cell_type": "raw",
     "metadata": {},
     "source": [
      "<br/><br/><br/><br/><br/><br/><br/><br/><br/><br/><br/><br/><br/><br/><br/><br/>"
     ]
    },
    {
     "cell_type": "markdown",
     "metadata": {
      "slideshow": {
       "slide_type": "slide"
      }
     },
     "source": [
      "## Docstrings as properties\n",
      "\n",
      "<div align=\"right\">*possibly dangerous</div>"
     ]
    },
    {
     "cell_type": "code",
     "collapsed": false,
     "input": [
      "class ClassProperty(property):\n",
      "    '''Builtin property only works on instance attributes'''\n",
      "    def __get__(self, cls, owner):\n",
      "        return self.fget.__get__(None, owner)()\n",
      "    \n",
      "class greet():\n",
      "    '''Unused Docstring for Class'''\n",
      "    @ClassProperty\n",
      "    @classmethod\n",
      "    def __doc__(cls):\n",
      "        print \"GENERATING DOCSTRING LAZILY!\\n\"\n",
      "        return \"The generated docstring\"\n",
      "\n"
     ],
     "language": "python",
     "metadata": {
      "slideshow": {
       "slide_type": "fragment"
      }
     },
     "outputs": [],
     "prompt_number": 10
    },
    {
     "cell_type": "code",
     "collapsed": false,
     "input": [
      "help(greet)"
     ],
     "language": "python",
     "metadata": {
      "slideshow": {
       "slide_type": "fragment"
      }
     },
     "outputs": [
      {
       "output_type": "stream",
       "stream": "stdout",
       "text": [
        "GENERATING DOCSTRING LAZILY!\n",
        "\n",
        "Help on class greet in module __main__:\n",
        "\n",
        "class greet\n",
        " |  The generated docstring\n",
        "\n"
       ]
      }
     ],
     "prompt_number": 11
    },
    {
     "cell_type": "raw",
     "metadata": {},
     "source": [
      "<br/><br/><br/><br/><br/><br/><br/><br/><br/><br/><br/><br/><br/><br/><br/><br/>"
     ]
    },
    {
     "cell_type": "markdown",
     "metadata": {
      "slideshow": {
       "slide_type": "slide"
      }
     },
     "source": [
      "# reStructuredText\n",
      "\n",
      "<br/><br/>\n",
      "![](images/rst.png)\n",
      "\n",
      "<br/><br/>\n",
      "<h2 align=\"middle\"><a href=\"http://docutils.sourceforge.net/rst.html\">http://docutils.sourceforge.net/rst.html</a></h2>"
     ]
    },
    {
     "cell_type": "raw",
     "metadata": {},
     "source": [
      "<br/><br/><br/><br/><br/><br/><br/><br/><br/><br/><br/><br/><br/><br/><br/><br/>"
     ]
    },
    {
     "cell_type": "markdown",
     "metadata": {
      "slideshow": {
       "slide_type": "slide"
      }
     },
     "source": [
      "## reST - Formatting\n",
      "\n",
      "reStructuredText is a markup that has been designed to be more capable, it has common formatting rules:\n",
      "\n",
      "    Captions are underlined\n",
      "    -----------------------\n",
      "\n",
      "    * Bullet list\n",
      "    \n",
      "      1. Nested numbered list\n",
      "\n",
      "    *Italic* **Bold** ``Text``\n",
      "\n",
      "    ..\n",
      "       Commented block\n",
      "       \n",
      "    etc..."
     ]
    },
    {
     "cell_type": "raw",
     "metadata": {},
     "source": [
      "<br/><br/><br/><br/><br/><br/><br/><br/><br/><br/><br/><br/><br/><br/><br/><br/>"
     ]
    },
    {
     "cell_type": "markdown",
     "metadata": {
      "slideshow": {
       "slide_type": "slide"
      }
     },
     "source": [
      "## reST - Directives\n",
      "\n",
      "reStructuredText also has directives, which are the more powerful aspect. You can define your own directive_types.\n",
      "\n",
      "    .. directive_type: name\n",
      "       :paramaters:\n",
      "       \n",
      "       content\n",
      "\n",
      "Example of a csv-table directive:\n",
      "\n",
      "    .. csv-table:: Frozen Delights!\n",
      "       :header: \"Treat\", \"Quantity\", \"Description\"\n",
      "       :widths: 15, 10, 30\n",
      "\n",
      "       \"Albatross\", 2.99, \"On a stick!\"\n",
      "       \"Crunchy Frog\", 1.49, \"If we took the bones out, it wouldn't be\n",
      "       crunchy, now would it?\"\n",
      "       \"Gannet Ripple\", 1.99, \"On a stick!\""
     ]
    },
    {
     "cell_type": "raw",
     "metadata": {},
     "source": [
      "<br/><br/><br/><br/><br/><br/><br/><br/><br/><br/><br/><br/><br/><br/><br/><br/>"
     ]
    },
    {
     "cell_type": "markdown",
     "metadata": {
      "slideshow": {
       "slide_type": "slide"
      }
     },
     "source": [
      "# Sphinx\n",
      "\n",
      "<br/>\n",
      "![](images/sphinx-logo.png)\n",
      "\n",
      "<br/>\n",
      "<h2 align=\"middle\"><a href=\"http://sphinx-doc.org/\">http://sphinx-doc.org/</a></h2>"
     ]
    },
    {
     "cell_type": "raw",
     "metadata": {},
     "source": [
      "<br/><br/><br/><br/><br/><br/><br/><br/><br/><br/><br/><br/><br/><br/><br/><br/>"
     ]
    },
    {
     "cell_type": "markdown",
     "metadata": {
      "slideshow": {
       "slide_type": "slide"
      }
     },
     "source": [
      "# Simple example\n",
      "\n",
      "Lets say we have a simple class aha in aha.py:"
     ]
    },
    {
     "cell_type": "code",
     "collapsed": false,
     "input": [
      "'''Contrived `ls` '''\n",
      "import os\n",
      "\n",
      "class aha():\n",
      "    '''Aha! lists path contents'''\n",
      "\n",
      "    def __init__(self, path):\n",
      "        self.path = path\n",
      "\n",
      "    @property\n",
      "    def exists(self):\n",
      "        '''Checks wether path exists'''\n",
      "        return os.path.exists(self.path)\n",
      "\n",
      "    def ls(self):\n",
      "        '''Returns a list of path contents'''\n",
      "        if self.exists:\n",
      "            return os.listdir(self.path)\n",
      "        else:\n",
      "            return None"
     ],
     "language": "python",
     "metadata": {
      "slideshow": {
       "slide_type": "-"
      }
     },
     "outputs": [],
     "prompt_number": 12
    },
    {
     "cell_type": "raw",
     "metadata": {},
     "source": [
      "<br/><br/><br/><br/><br/><br/><br/><br/><br/><br/><br/><br/><br/><br/><br/><br/>"
     ]
    },
    {
     "cell_type": "markdown",
     "metadata": {
      "slideshow": {
       "slide_type": "slide"
      }
     },
     "source": [
      "# Simple Example - cont"
     ]
    },
    {
     "cell_type": "code",
     "collapsed": false,
     "input": [
      "place = aha('docsample')"
     ],
     "language": "python",
     "metadata": {
      "slideshow": {
       "slide_type": "-"
      }
     },
     "outputs": [],
     "prompt_number": 13
    },
    {
     "cell_type": "code",
     "collapsed": false,
     "input": [
      "place.exists"
     ],
     "language": "python",
     "metadata": {
      "slideshow": {
       "slide_type": "fragment"
      }
     },
     "outputs": [
      {
       "metadata": {},
       "output_type": "pyout",
       "prompt_number": 14,
       "text": [
        "True"
       ]
      }
     ],
     "prompt_number": 14
    },
    {
     "cell_type": "code",
     "collapsed": false,
     "input": [
      "place.ls()"
     ],
     "language": "python",
     "metadata": {
      "slideshow": {
       "slide_type": "fragment"
      }
     },
     "outputs": [
      {
       "metadata": {},
       "output_type": "pyout",
       "prompt_number": 15,
       "text": [
        "['aha.py', '__init__.py']"
       ]
      }
     ],
     "prompt_number": 15
    },
    {
     "cell_type": "markdown",
     "metadata": {
      "slideshow": {
       "slide_type": "fragment"
      }
     },
     "source": [
      "Lets compare that result to an actual shell `ls`:"
     ]
    },
    {
     "cell_type": "code",
     "collapsed": false,
     "input": [
      "!ls -go docsample"
     ],
     "language": "python",
     "metadata": {
      "slideshow": {
       "slide_type": "fragment"
      }
     },
     "outputs": [
      {
       "output_type": "stream",
       "stream": "stdout",
       "text": [
        "total 4\r\n",
        "-rw-r--r-- 1 423 Sep 30 12:41 aha.py\r\n",
        "-rw-r--r-- 1   0 Sep 30 12:47 __init__.py\r\n"
       ]
      }
     ],
     "prompt_number": 16
    },
    {
     "cell_type": "raw",
     "metadata": {},
     "source": [
      "<br/><br/><br/><br/><br/><br/><br/><br/><br/><br/><br/><br/><br/><br/><br/><br/>"
     ]
    },
    {
     "cell_type": "markdown",
     "metadata": {
      "slideshow": {
       "slide_type": "slide"
      }
     },
     "source": [
      "# Simple Example - cont"
     ]
    },
    {
     "cell_type": "code",
     "collapsed": false,
     "input": [
      "!sphinx-apidoc -o docs -F -H docsample -A \"Nickolas Grigoriadis\" -V 0.1 docs\n",
      "!rm docs/Makefile docs/make.bat"
     ],
     "language": "python",
     "metadata": {
      "slideshow": {
       "slide_type": "skip"
      }
     },
     "outputs": [
      {
       "output_type": "stream",
       "stream": "stdout",
       "text": [
        "Creating file docs/conf.py.\r\n",
        "Creating file docs/index.rst.\r\n",
        "Creating file docs/Makefile.\r\n",
        "Creating file docs/make.bat.\r\n"
       ]
      }
     ],
     "prompt_number": 17
    },
    {
     "cell_type": "markdown",
     "metadata": {
      "slideshow": {
       "slide_type": "-"
      }
     },
     "source": [
      "Run **sphinx-quickstart** to create a project.\n",
      "\n",
      "![](images/sphinx-docgen.png)\n"
     ]
    },
    {
     "cell_type": "raw",
     "metadata": {},
     "source": [
      "<br/><br/><br/><br/><br/><br/><br/><br/><br/><br/><br/><br/><br/><br/><br/><br/>"
     ]
    },
    {
     "cell_type": "markdown",
     "metadata": {
      "slideshow": {
       "slide_type": "slide"
      }
     },
     "source": [
      "# Simple Exampe - cont\n",
      "\n",
      "Now lets build the docs:"
     ]
    },
    {
     "cell_type": "code",
     "collapsed": false,
     "input": [
      "!rm -fR docs/_* docs/html1"
     ],
     "language": "python",
     "metadata": {
      "slideshow": {
       "slide_type": "skip"
      }
     },
     "outputs": [],
     "prompt_number": 18
    },
    {
     "cell_type": "code",
     "collapsed": false,
     "input": [
      "!sphinx-build docs docs/html1"
     ],
     "language": "python",
     "metadata": {
      "slideshow": {
       "slide_type": "fragment"
      }
     },
     "outputs": [
      {
       "output_type": "stream",
       "stream": "stdout",
       "text": [
        "Making output directory...\r\n",
        "\u001b[01mRunning Sphinx v1.2.3\u001b[39;49;00m\r\n"
       ]
      },
      {
       "output_type": "stream",
       "stream": "stdout",
       "text": [
        "\u001b[01mloading pickled environment... \u001b[39;49;00mnot yet created\r\n",
        "No builder selected, using default: html\r\n"
       ]
      },
      {
       "output_type": "stream",
       "stream": "stdout",
       "text": [
        "\u001b[01mbuilding [html]: \u001b[39;49;00mtargets for 1 source files that are out of date\r\n",
        "\u001b[01mupdating environment: \u001b[39;49;00m1 added, 0 changed, 0 removed\r\n",
        "\u001b[01mreading sources... \u001b[39;49;00m[100%] \u001b[35mindex\u001b[39;49;00m\r"
       ]
      },
      {
       "output_type": "stream",
       "stream": "stdout",
       "text": [
        "\r\n",
        "\u001b[01mlooking for now-outdated files... \u001b[39;49;00mnone found\r\n",
        "\u001b[01mpickling environment... \u001b[39;49;00mdone\r\n",
        "\u001b[01mchecking consistency... \u001b[39;49;00mdone\r\n",
        "\u001b[01mpreparing documents... \u001b[39;49;00mdone\r\n",
        "\u001b[01mwriting output... \u001b[39;49;00m[100%] \u001b[32mindex\u001b[39;49;00m\r"
       ]
      },
      {
       "output_type": "stream",
       "stream": "stdout",
       "text": [
        "\r\n",
        "\u001b[01mwriting additional files...\u001b[39;49;00m (0 module code pages) genindex"
       ]
      },
      {
       "output_type": "stream",
       "stream": "stdout",
       "text": [
        " search\r\n",
        "\u001b[01mcopying static files... \u001b[39;49;00m"
       ]
      },
      {
       "output_type": "stream",
       "stream": "stdout",
       "text": [
        "WARNING: html_static_path entry u'/home/grigi/coding/ipy/docs/_static' does not exist\r\n",
        "done\r\n",
        "\u001b[01mcopying extra files... \u001b[39;49;00mdone\r\n",
        "\u001b[01mdumping search index... \u001b[39;49;00mdone\r\n",
        "\u001b[01mdumping object inventory... \u001b[39;49;00mdone\r\n",
        "\u001b[01mbuild succeeded, 1 warning.\u001b[39;49;00m\r\n"
       ]
      }
     ],
     "prompt_number": 19
    },
    {
     "cell_type": "raw",
     "metadata": {},
     "source": [
      "<br/><br/><br/><br/><br/><br/><br/><br/><br/><br/><br/><br/><br/><br/><br/><br/>"
     ]
    },
    {
     "cell_type": "markdown",
     "metadata": {
      "slideshow": {
       "slide_type": "slide"
      }
     },
     "source": [
      "# Simple Example - cont\n",
      "\n",
      "Lets have a look at the generated docs:\n",
      "\n",
      "<h2>[Initial docs - DEMO](docs/html1/index.html)</h2>"
     ]
    },
    {
     "cell_type": "raw",
     "metadata": {},
     "source": [
      "<br/><br/><br/><br/><br/><br/><br/><br/><br/><br/><br/><br/><br/><br/><br/><br/>"
     ]
    },
    {
     "cell_type": "markdown",
     "metadata": {
      "slideshow": {
       "slide_type": "slide"
      }
     },
     "source": [
      "# Is that it? - Where are my docs?"
     ]
    },
    {
     "cell_type": "markdown",
     "metadata": {
      "slideshow": {
       "slide_type": "fragment"
      }
     },
     "source": [
      "Sphinx doesn\u2019t do any of the magic that Doxygen/JavaDoc does for you."
     ]
    },
    {
     "cell_type": "markdown",
     "metadata": {
      "slideshow": {
       "slide_type": "fragment"
      }
     },
     "source": [
      "It doesn\u2019t want to constrain what your documentation can be."
     ]
    },
    {
     "cell_type": "markdown",
     "metadata": {
      "slideshow": {
       "slide_type": "fragment"
      }
     },
     "source": [
      "It allows you to \u201cscript\u201d your documentation."
     ]
    },
    {
     "cell_type": "raw",
     "metadata": {},
     "source": [
      "<br/><br/><br/><br/><br/><br/><br/><br/><br/><br/><br/><br/><br/><br/><br/><br/>"
     ]
    },
    {
     "cell_type": "markdown",
     "metadata": {
      "slideshow": {
       "slide_type": "slide"
      }
     },
     "source": [
      "# Sphinx Plugins\n",
      "\n",
      "Many forms:\n",
      "\n",
      "One can control the documentation generated using directives.\n",
      "\n",
      "    .. toctree::\n",
      "       :maxdepth: 2\n",
      "\n",
      "       intro\n",
      "       strings\n",
      "       (many more documents listed here)\n",
      "\n",
      "Some libraries will generate reST documentation that you can include in the documentation project.\n",
      "\n",
      "    .. include:: behave/steps_usage.rst\n"
     ]
    },
    {
     "cell_type": "raw",
     "metadata": {},
     "source": [
      "<br/><br/><br/><br/><br/><br/><br/><br/><br/><br/><br/><br/><br/><br/><br/><br/>"
     ]
    },
    {
     "cell_type": "markdown",
     "metadata": {
      "slideshow": {
       "slide_type": "slide"
      }
     },
     "source": [
      "# Important Sphinx Plugins"
     ]
    },
    {
     "cell_type": "markdown",
     "metadata": {
      "slideshow": {
       "slide_type": "fragment"
      }
     },
     "source": [
      "### autodoc\n",
      "[autodoc Documentation](sphinx-doc.org/ext/autodoc.html)\n",
      "\n",
      "This extension can import the modules you are documenting, and pull in documentation from docstrings in a semi-automatic way.\n",
      "\n",
      "The docstrings must of course be written in correct reStructuredText. You can then use all of the usual Sphinx markup in the docstrings."
     ]
    },
    {
     "cell_type": "markdown",
     "metadata": {
      "slideshow": {
       "slide_type": "fragment"
      }
     },
     "source": [
      "### doctests\n",
      "[doctest Documentation](sphinx-doc.org/ext/doctest.html)\n",
      "\n",
      "This extension allows you to test snippets in the documentation in a natural way. It works by collecting specially-marked up code blocks and running them as tests when building the docs."
     ]
    },
    {
     "cell_type": "raw",
     "metadata": {},
     "source": [
      "<br/><br/><br/><br/><br/><br/><br/><br/><br/><br/><br/><br/><br/><br/><br/><br/>"
     ]
    },
    {
     "cell_type": "markdown",
     "metadata": {
      "slideshow": {
       "slide_type": "slide"
      }
     },
     "source": [
      "# autodoc - helpers"
     ]
    },
    {
     "cell_type": "code",
     "collapsed": false,
     "input": [
      "!sphinx-apidoc -o docs docsample"
     ],
     "language": "python",
     "metadata": {
      "slideshow": {
       "slide_type": "-"
      }
     },
     "outputs": [
      {
       "output_type": "stream",
       "stream": "stdout",
       "text": [
        "Creating file docs/docsample.rst.\r\n",
        "Creating file docs/modules.rst.\r\n"
       ]
      }
     ],
     "prompt_number": 20
    },
    {
     "cell_type": "code",
     "collapsed": false,
     "input": [
      "%cat docs/docsample.rst"
     ],
     "language": "python",
     "metadata": {
      "slideshow": {
       "slide_type": "fragment"
      }
     },
     "outputs": [
      {
       "output_type": "stream",
       "stream": "stdout",
       "text": [
        "docsample package\r\n",
        "=================\r\n",
        "\r\n",
        "Submodules\r\n",
        "----------\r\n",
        "\r\n",
        "docsample.aha module\r\n",
        "--------------------\r\n",
        "\r\n",
        ".. automodule:: docsample.aha\r\n",
        "    :members:\r\n",
        "    :undoc-members:\r\n",
        "    :show-inheritance:\r\n",
        "\r\n",
        "\r\n",
        "Module contents\r\n",
        "---------------\r\n",
        "\r\n",
        ".. automodule:: docsample\r\n",
        "    :members:\r\n",
        "    :undoc-members:\r\n",
        "    :show-inheritance:\r\n"
       ]
      }
     ],
     "prompt_number": 21
    },
    {
     "cell_type": "raw",
     "metadata": {},
     "source": [
      "<br/><br/><br/><br/><br/><br/><br/><br/><br/><br/><br/><br/><br/><br/><br/><br/>"
     ]
    },
    {
     "cell_type": "markdown",
     "metadata": {
      "slideshow": {
       "slide_type": "slide"
      }
     },
     "source": [
      "# autodoc - sample"
     ]
    },
    {
     "cell_type": "code",
     "collapsed": false,
     "input": [
      "!rm -fR docs/_* docs/html2\n",
      "!sed -i \"s/#sys.path.insert(0, os.path.abspath('.'))/sys.path.insert(0, os.path.abspath('..'))/\" docs/conf.py\n",
      "!sed -i \"14s/.*/   modules\\n/g\" docs/index.rst"
     ],
     "language": "python",
     "metadata": {
      "slideshow": {
       "slide_type": "skip"
      }
     },
     "outputs": [],
     "prompt_number": 22
    },
    {
     "cell_type": "markdown",
     "metadata": {
      "slideshow": {
       "slide_type": "-"
      }
     },
     "source": [
      "Add modules to the root toctree:\n",
      "\n",
      "    .. toctree::\n",
      "       :maxdepth: 4\n",
      "\n",
      "       modules\n",
      "\n",
      "Then run **sphinx-build**:"
     ]
    },
    {
     "cell_type": "code",
     "collapsed": false,
     "input": [
      "!sphinx-build docs docs/html2"
     ],
     "language": "python",
     "metadata": {
      "slideshow": {
       "slide_type": "fragment"
      }
     },
     "outputs": [
      {
       "output_type": "stream",
       "stream": "stdout",
       "text": [
        "Making output directory...\r\n",
        "\u001b[01mRunning Sphinx v1.2.3\u001b[39;49;00m\r\n"
       ]
      },
      {
       "output_type": "stream",
       "stream": "stdout",
       "text": [
        "\u001b[01mloading pickled environment... \u001b[39;49;00mnot yet created\r\n",
        "No builder selected, using default: html\r\n"
       ]
      },
      {
       "output_type": "stream",
       "stream": "stdout",
       "text": [
        "\u001b[01mbuilding [html]: \u001b[39;49;00mtargets for 3 source files that are out of date\r\n",
        "\u001b[01mupdating environment: \u001b[39;49;00m3 added, 0 changed, 0 removed\r\n",
        "\u001b[01mreading sources... \u001b[39;49;00m[ 33%] \u001b[35mdocsample\u001b[39;49;00m\r"
       ]
      },
      {
       "output_type": "stream",
       "stream": "stdout",
       "text": [
        "\u001b[01mreading sources... \u001b[39;49;00m[ 66%] \u001b[35mindex\u001b[39;49;00m\r",
        "\u001b[01mreading sources... \u001b[39;49;00m[100%] \u001b[35mmodules\u001b[39;49;00m\r",
        "\r\n",
        "\u001b[01mlooking for now-outdated files... \u001b[39;49;00mnone found\r\n",
        "\u001b[01mpickling environment... \u001b[39;49;00mdone\r\n",
        "\u001b[01mchecking consistency... \u001b[39;49;00mdone\r\n",
        "\u001b[01mpreparing documents... \u001b[39;49;00mdone\r\n",
        "\u001b[01mwriting output... \u001b[39;49;00m[ 33%] \u001b[32mdocsample\u001b[39;49;00m\r"
       ]
      },
      {
       "output_type": "stream",
       "stream": "stdout",
       "text": [
        "\u001b[01mwriting output... \u001b[39;49;00m[ 66%] \u001b[32mindex\u001b[39;49;00m\r",
        "\u001b[01mwriting output... \u001b[39;49;00m[100%] \u001b[32mmodules\u001b[39;49;00m\r",
        "\r\n",
        "\u001b[01mwriting additional files...\u001b[39;49;00m"
       ]
      },
      {
       "output_type": "stream",
       "stream": "stdout",
       "text": [
        " (1 module code pages) _modules/index genindex py-modindex search"
       ]
      },
      {
       "output_type": "stream",
       "stream": "stdout",
       "text": [
        "\r\n",
        "\u001b[01mcopying static files... \u001b[39;49;00mWARNING: html_static_path entry u'/home/grigi/coding/ipy/docs/_static' does not exist\r\n",
        "done\r\n",
        "\u001b[01mcopying extra files... \u001b[39;49;00mdone\r\n",
        "\u001b[01mdumping search index... \u001b[39;49;00mdone\r\n",
        "\u001b[01mdumping object inventory... \u001b[39;49;00mdone\r\n",
        "\u001b[01mbuild succeeded, 1 warning.\u001b[39;49;00m\r\n"
       ]
      }
     ],
     "prompt_number": 23
    },
    {
     "cell_type": "raw",
     "metadata": {},
     "source": [
      "<br/><br/><br/><br/><br/><br/><br/><br/><br/><br/><br/><br/><br/><br/><br/><br/>"
     ]
    },
    {
     "cell_type": "markdown",
     "metadata": {
      "slideshow": {
       "slide_type": "slide"
      }
     },
     "source": [
      "# autodoc - sample\n",
      "\n",
      "Lets have a look at the generated docs:\n",
      "\n",
      "<h2>[Autodoc docs - DEMO](docs/html2/index.html)</h2>"
     ]
    },
    {
     "cell_type": "raw",
     "metadata": {},
     "source": [
      "<br/><br/><br/><br/><br/><br/><br/><br/><br/><br/><br/><br/><br/><br/><br/><br/>"
     ]
    },
    {
     "cell_type": "markdown",
     "metadata": {
      "slideshow": {
       "slide_type": "slide"
      }
     },
     "source": [
      "# So, what does this buy us?\n"
     ]
    },
    {
     "cell_type": "markdown",
     "metadata": {
      "slideshow": {
       "slide_type": "fragment"
      }
     },
     "source": [
      "* Some documentation is done is one place (as part of the code)."
     ]
    },
    {
     "cell_type": "markdown",
     "metadata": {
      "slideshow": {
       "slide_type": "fragment"
      }
     },
     "source": [
      "* Documentation is a bit easier to keep up-to-date, since it is directly part of the codebase."
     ]
    },
    {
     "cell_type": "markdown",
     "metadata": {
      "slideshow": {
       "slide_type": "fragment"
      }
     },
     "source": [
      "* Documentation is hosted by the codebase, so there is a known place where to look for it."
     ]
    },
    {
     "cell_type": "markdown",
     "metadata": {
      "slideshow": {
       "slide_type": "fragment"
      }
     },
     "source": [
      "* You could auto-generate docs as part of your staging/testing deployment."
     ]
    },
    {
     "cell_type": "raw",
     "metadata": {},
     "source": [
      "<br/><br/><br/><br/><br/><br/><br/><br/><br/><br/><br/><br/><br/><br/><br/><br/>"
     ]
    },
    {
     "cell_type": "markdown",
     "metadata": {
      "slideshow": {
       "slide_type": "slide"
      }
     },
     "source": [
      "# Keeping docs up to date.\n",
      "\n",
      "Of course, this doesn't mean that docs will automatically be kept up-to-date, so effort must still be taken to keep docs up-to-date.\n",
      "\n",
      "Some methods are:"
     ]
    },
    {
     "cell_type": "markdown",
     "metadata": {
      "slideshow": {
       "slide_type": "fragment"
      }
     },
     "source": [
      "* Have more of the docs generate in more specific ways"
     ]
    },
    {
     "cell_type": "markdown",
     "metadata": {
      "slideshow": {
       "slide_type": "fragment"
      }
     },
     "source": [
      "* Implement doctests to raise a flag when your docs are out-of-date."
     ]
    },
    {
     "cell_type": "raw",
     "metadata": {},
     "source": [
      "<br/><br/><br/><br/><br/><br/><br/><br/><br/><br/><br/><br/><br/><br/><br/><br/>"
     ]
    },
    {
     "cell_type": "markdown",
     "metadata": {
      "slideshow": {
       "slide_type": "slide"
      }
     },
     "source": [
      "# Generating docs off tests/code\n",
      "\n",
      "Using some of the demonstrated self-populating docstring methods, you could even have the property lazily run a test to get the output.\n",
      "\n",
      "You can also have a look at the various and helpful [sphinx-contrib plugins.](https://bitbucket.org/birkenfeld/sphinx-contrib)\n"
     ]
    },
    {
     "cell_type": "raw",
     "metadata": {},
     "source": [
      "<br/><br/><br/><br/><br/><br/><br/><br/><br/><br/><br/><br/><br/><br/><br/><br/>"
     ]
    },
    {
     "cell_type": "markdown",
     "metadata": {
      "slideshow": {
       "slide_type": "slide"
      }
     },
     "source": [
      "# Doctests"
     ]
    },
    {
     "cell_type": "markdown",
     "metadata": {},
     "source": [
      "    .. testcode::\n",
      "\n",
      "       1+1        # this will give no output!\n",
      "       print 2+2  # this will give output\n",
      "\n",
      "    .. testoutput::\n",
      "\n",
      "       4"
     ]
    },
    {
     "cell_type": "raw",
     "metadata": {},
     "source": [
      "<br/><br/><br/><br/><br/><br/><br/><br/><br/><br/><br/><br/><br/><br/><br/><br/>"
     ]
    },
    {
     "cell_type": "markdown",
     "metadata": {
      "slideshow": {
       "slide_type": "slide"
      }
     },
     "source": [
      "# Done! - for now...\n",
      "\n",
      "## Questions?"
     ]
    },
    {
     "cell_type": "raw",
     "metadata": {},
     "source": [
      "<br/><br/><br/><br/><br/><br/><br/><br/><br/><br/><br/><br/><br/><br/><br/><br/>"
     ]
    }
   ],
   "metadata": {}
  }
 ]
}