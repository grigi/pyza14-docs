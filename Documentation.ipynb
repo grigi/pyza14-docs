{
 "metadata": {
  "celltoolbar": "Slideshow",
  "name": "",
  "signature": "sha256:596130ad6cc29ecbf4ad42a77566215722930604a440a1298318f1e6dd2b3f7e"
 },
 "nbformat": 3,
 "nbformat_minor": 0,
 "worksheets": [
  {
   "cells": [
    {
     "cell_type": "code",
     "collapsed": false,
     "input": [],
     "language": "python",
     "metadata": {
      "slideshow": {
       "slide_type": "skip"
      }
     },
     "outputs": [],
     "prompt_number": 0
    },
    {
     "cell_type": "markdown",
     "metadata": {
      "slideshow": {
       "slide_type": "slide"
      }
     },
     "source": [
      "<h1 align=\"center\" class=\"title\">How Python helps writing documentation less painful</h1>\n",
      "\n",
      "<h3 align=\"right\" class=\"subtitle\">By Nickolas Grigoriadis</h3>\n",
      "<h5 align=\"right\" class=\"subtitle\">Internet Solutions</h5>\n",
      "\n",
      "<img src=\"images/python-logo.png\"/>\n",
      "<img src=\"images/is-logo.png\"/>\n"
     ]
    },
    {
     "cell_type": "markdown",
     "metadata": {
      "slideshow": {
       "slide_type": "slide"
      }
     },
     "source": [
      "# About Me"
     ]
    },
    {
     "cell_type": "raw",
     "metadata": {},
     "source": [
      "<br/><br/><br/><br/><br/><br/><br/><br/><br/><br/><br/><br/><br/><br/><br/><br/>"
     ]
    },
    {
     "cell_type": "markdown",
     "metadata": {
      "slideshow": {
       "slide_type": "slide"
      }
     },
     "source": [
      "# Documentation\n",
      "\n",
      "Sigh, Documentation\n",
      "\n"
     ]
    },
    {
     "cell_type": "markdown",
     "metadata": {
      "slideshow": {
       "slide_type": "fragment"
      }
     },
     "source": [
      "* Reading useful documentation is awesome!"
     ]
    },
    {
     "cell_type": "markdown",
     "metadata": {
      "slideshow": {
       "slide_type": "fragment"
      }
     },
     "source": [
      "* Cringe if I have to write it."
     ]
    },
    {
     "cell_type": "raw",
     "metadata": {},
     "source": [
      "<br/><br/><br/><br/><br/><br/><br/><br/><br/><br/><br/><br/><br/><br/><br/><br/>"
     ]
    },
    {
     "cell_type": "markdown",
     "metadata": {
      "slideshow": {
       "slide_type": "slide"
      }
     },
     "source": [
      "# Useful Documentation\n",
      "\n",
      "What is useful documentation?\n"
     ]
    },
    {
     "cell_type": "markdown",
     "metadata": {
      "slideshow": {
       "slide_type": "fragment"
      }
     },
     "source": [
      "* Targets the right audience."
     ]
    },
    {
     "cell_type": "markdown",
     "metadata": {
      "slideshow": {
       "slide_type": "fragment"
      }
     },
     "source": [
      "* Easy to find relevant information."
     ]
    },
    {
     "cell_type": "markdown",
     "metadata": {
      "slideshow": {
       "slide_type": "fragment"
      }
     },
     "source": [
      "* Technically correct."
     ]
    },
    {
     "cell_type": "markdown",
     "metadata": {
      "slideshow": {
       "slide_type": "fragment"
      }
     },
     "source": [
      "* Complete."
     ]
    },
    {
     "cell_type": "raw",
     "metadata": {},
     "source": [
      "<br/><br/><br/><br/><br/><br/><br/><br/><br/><br/><br/><br/><br/><br/><br/><br/>"
     ]
    },
    {
     "cell_type": "markdown",
     "metadata": {
      "slideshow": {
       "slide_type": "slide"
      }
     },
     "source": [
      "# Useless Documentation\n",
      "\n",
      "What makes documentation essentially useless?"
     ]
    },
    {
     "cell_type": "markdown",
     "metadata": {
      "slideshow": {
       "slide_type": "fragment"
      }
     },
     "source": [
      "Pretty much the inverse of any of the previous slides points."
     ]
    },
    {
     "cell_type": "raw",
     "metadata": {},
     "source": [
      "<br/><br/><br/><br/><br/><br/><br/><br/><br/><br/><br/><br/><br/><br/><br/><br/>"
     ]
    },
    {
     "cell_type": "markdown",
     "metadata": {
      "slideshow": {
       "slide_type": "slide"
      }
     },
     "source": [
      "# Self Documenting code"
     ]
    },
    {
     "cell_type": "markdown",
     "metadata": {
      "slideshow": {
       "slide_type": "fragment"
      }
     },
     "source": [
      "Ah, that myth I hear every so often."
     ]
    },
    {
     "cell_type": "markdown",
     "metadata": {
      "slideshow": {
       "slide_type": "fragment"
      }
     },
     "source": [
      "If computers could generate documentation, that carries intent and purpose without any input from its creator, it may as well take over the world."
     ]
    },
    {
     "cell_type": "raw",
     "metadata": {},
     "source": [
      "<br/><br/><br/><br/><br/><br/><br/><br/><br/><br/><br/><br/><br/><br/><br/><br/>"
     ]
    },
    {
     "cell_type": "markdown",
     "metadata": {
      "slideshow": {
       "slide_type": "slide"
      }
     },
     "source": [
      "# Self Documenting code"
     ]
    },
    {
     "cell_type": "markdown",
     "metadata": {
      "slideshow": {
       "slide_type": "fragment"
      }
     },
     "source": [
      "Though, there was some promising and useful work done in this direction.\n",
      "\n",
      "e.g. Doxygen, JavaDoc, etc\u2026"
     ]
    },
    {
     "cell_type": "markdown",
     "metadata": {
      "slideshow": {
       "slide_type": "fragment"
      }
     },
     "source": [
      "These tools can generate documentation that is accurate, but completely devoid of intent and purpose."
     ]
    },
    {
     "cell_type": "raw",
     "metadata": {},
     "source": [
      "<br/><br/><br/><br/><br/><br/><br/><br/><br/><br/><br/><br/><br/><br/><br/><br/>"
     ]
    },
    {
     "cell_type": "markdown",
     "metadata": {
      "slideshow": {
       "slide_type": "slide"
      }
     },
     "source": [
      "# Self documenting code"
     ]
    },
    {
     "cell_type": "markdown",
     "metadata": {
      "slideshow": {
       "slide_type": "fragment"
      }
     },
     "source": [
      "You have to add comments to your code which \u2018helps\u2019 the documentation generator make more readable documentation."
     ]
    },
    {
     "cell_type": "markdown",
     "metadata": {
      "slideshow": {
       "slide_type": "fragment"
      }
     },
     "source": [
      "Ultimately the documentation often ends up as a documentation of the application internals, whilst useful, not necessarily targeting the right audience or complete."
     ]
    },
    {
     "cell_type": "raw",
     "metadata": {},
     "source": [
      "<br/><br/><br/><br/><br/><br/><br/><br/><br/><br/><br/><br/><br/><br/><br/><br/>"
     ]
    },
    {
     "cell_type": "markdown",
     "metadata": {
      "slideshow": {
       "slide_type": "slide"
      }
     },
     "source": [
      "# How does Python help?\n",
      "\n",
      "Due in part to how python developed as a language (PEP), and its introspection abilities, Python has several ways of helping generating documentation.\n",
      "\n",
      "There are several useful built-in functions one can use:"
     ]
    },
    {
     "cell_type": "markdown",
     "metadata": {
      "slideshow": {
       "slide_type": "fragment"
      }
     },
     "source": [
      "    # Returns a list of sub-objects\n",
      "    dir()\n"
     ]
    },
    {
     "cell_type": "markdown",
     "metadata": {
      "slideshow": {
       "slide_type": "fragment"
      }
     },
     "source": [
      "    # Generates help text on object\n",
      "    help()\n"
     ]
    },
    {
     "cell_type": "raw",
     "metadata": {},
     "source": [
      "<br/><br/><br/><br/><br/><br/><br/><br/><br/><br/><br/><br/><br/><br/><br/><br/>"
     ]
    },
    {
     "cell_type": "heading",
     "level": 2,
     "metadata": {
      "slideshow": {
       "slide_type": "slide"
      }
     },
     "source": [
      "dir() helper function"
     ]
    },
    {
     "cell_type": "code",
     "collapsed": false,
     "input": [
      "dir(__builtin__)[75:100]"
     ],
     "language": "python",
     "metadata": {
      "slideshow": {
       "slide_type": "fragment"
      }
     },
     "outputs": [
      {
       "metadata": {},
       "output_type": "pyout",
       "prompt_number": 1,
       "text": [
        "['compile',\n",
        " 'complex',\n",
        " 'copyright',\n",
        " 'credits',\n",
        " 'delattr',\n",
        " 'dict',\n",
        " 'dir',\n",
        " 'divmod',\n",
        " 'dreload',\n",
        " 'enumerate',\n",
        " 'eval',\n",
        " 'execfile',\n",
        " 'file',\n",
        " 'filter',\n",
        " 'float',\n",
        " 'format',\n",
        " 'frozenset',\n",
        " 'get_ipython',\n",
        " 'getattr',\n",
        " 'globals',\n",
        " 'hasattr',\n",
        " 'hash',\n",
        " 'help',\n",
        " 'hex',\n",
        " 'id']"
       ]
      }
     ],
     "prompt_number": 1
    },
    {
     "cell_type": "raw",
     "metadata": {},
     "source": [
      "<br/><br/><br/><br/><br/><br/><br/><br/><br/><br/><br/><br/><br/><br/><br/><br/>"
     ]
    },
    {
     "cell_type": "heading",
     "level": 2,
     "metadata": {
      "slideshow": {
       "slide_type": "slide"
      }
     },
     "source": [
      "help() function"
     ]
    },
    {
     "cell_type": "code",
     "collapsed": false,
     "input": [
      "help(enumerate)"
     ],
     "language": "python",
     "metadata": {
      "slideshow": {
       "slide_type": "fragment"
      }
     },
     "outputs": [
      {
       "output_type": "stream",
       "stream": "stdout",
       "text": [
        "Help on class enumerate in module __builtin__:\n",
        "\n",
        "class enumerate(object)\n",
        " |  enumerate(iterable[, start]) -> iterator for index, value of iterable\n",
        " |  \n",
        " |  Return an enumerate object.  iterable must be another object that supports\n",
        " |  iteration.  The enumerate object yields pairs containing a count (from\n",
        " |  start, which defaults to zero) and a value yielded by the iterable argument.\n",
        " |  enumerate is useful for obtaining an indexed list:\n",
        " |      (0, seq[0]), (1, seq[1]), (2, seq[2]), ...\n",
        " |  \n",
        " |  Methods defined here:\n",
        " |  \n",
        " |  __getattribute__(...)\n",
        " |      x.__getattribute__('name') <==> x.name\n",
        " |  \n",
        " |  __iter__(...)\n",
        " |      x.__iter__() <==> iter(x)\n",
        " |  \n",
        " |  next(...)\n",
        " |      x.next() -> the next value, or raise StopIteration\n",
        " |  \n",
        " |  ----------------------------------------------------------------------\n",
        " |  Data and other attributes defined here:\n",
        " |  \n",
        " |  __new__ = <built-in method __new__ of type object>\n",
        " |      T.__new__(S, ...) -> a new object with type S, a subtype of T\n",
        "\n"
       ]
      }
     ],
     "prompt_number": 2
    },
    {
     "cell_type": "raw",
     "metadata": {},
     "source": [
      "<br/><br/><br/><br/><br/><br/><br/><br/><br/><br/><br/><br/><br/><br/><br/><br/>"
     ]
    },
    {
     "cell_type": "markdown",
     "metadata": {
      "slideshow": {
       "slide_type": "slide"
      }
     },
     "source": [
      "# Docstrings\n",
      "\n",
      "Docstrings is the first string literal after a function/class definition."
     ]
    },
    {
     "cell_type": "raw",
     "metadata": {},
     "source": [
      "<br/><br/><br/><br/><br/><br/><br/><br/><br/><br/><br/><br/><br/><br/><br/><br/>"
     ]
    },
    {
     "cell_type": "heading",
     "level": 2,
     "metadata": {
      "slideshow": {
       "slide_type": "slide"
      }
     },
     "source": [
      "Basic docstring:"
     ]
    },
    {
     "cell_type": "code",
     "collapsed": false,
     "input": [
      "def greet(char):\n",
      "    '''\n",
      "    Prints a greeting to <char>\n",
      "    '''\n",
      "    print \"Greetings, %s\" % char"
     ],
     "language": "python",
     "metadata": {
      "slideshow": {
       "slide_type": "fragment"
      }
     },
     "outputs": [],
     "prompt_number": 3
    },
    {
     "cell_type": "code",
     "collapsed": false,
     "input": [
      "help(greet)"
     ],
     "language": "python",
     "metadata": {
      "slideshow": {
       "slide_type": "fragment"
      }
     },
     "outputs": [
      {
       "output_type": "stream",
       "stream": "stdout",
       "text": [
        "Help on function greet in module __main__:\n",
        "\n",
        "greet(char)\n",
        "    Prints a greeting to <char>\n",
        "\n"
       ]
      }
     ],
     "prompt_number": 4
    },
    {
     "cell_type": "raw",
     "metadata": {},
     "source": [
      "<br/><br/><br/><br/><br/><br/><br/><br/><br/><br/><br/><br/><br/><br/><br/><br/>"
     ]
    },
    {
     "cell_type": "heading",
     "level": 2,
     "metadata": {
      "slideshow": {
       "slide_type": "slide"
      }
     },
     "source": [
      "Programatically set docstring"
     ]
    },
    {
     "cell_type": "code",
     "collapsed": false,
     "input": [
      "def greet(char):\n",
      "    print \"Greetings, %s\" % char\n",
      "greet.__doc__ = \"Programatically set docstring\""
     ],
     "language": "python",
     "metadata": {
      "slideshow": {
       "slide_type": "fragment"
      }
     },
     "outputs": [],
     "prompt_number": 5
    },
    {
     "cell_type": "code",
     "collapsed": false,
     "input": [
      "help(greet)"
     ],
     "language": "python",
     "metadata": {
      "slideshow": {
       "slide_type": "fragment"
      }
     },
     "outputs": [
      {
       "output_type": "stream",
       "stream": "stdout",
       "text": [
        "Help on function greet in module __main__:\n",
        "\n",
        "greet(char)\n",
        "    Programatically set docstring\n",
        "\n"
       ]
      }
     ],
     "prompt_number": 6
    },
    {
     "cell_type": "raw",
     "metadata": {},
     "source": [
      "<br/><br/><br/><br/><br/><br/><br/><br/><br/><br/><br/><br/><br/><br/><br/><br/>"
     ]
    },
    {
     "cell_type": "heading",
     "level": 2,
     "metadata": {
      "slideshow": {
       "slide_type": "slide"
      }
     },
     "source": [
      "Docstring that self-generates"
     ]
    },
    {
     "cell_type": "code",
     "collapsed": false,
     "input": [
      "CHARACTERS = ('milkman', 'raz', 'secret agent')\n",
      "\n",
      "def greet(char):\n",
      "    '''\n",
      "    Prints a greeting to <char> if <char> is recognised, else it tells you to go away.\n",
      "    Allowed chars are:\n",
      "    {char_list}\n",
      "    '''\n",
      "    if char not in CHARACTERS:\n",
      "        print \"Go away!\"\n",
      "    else:\n",
      "        print \"Greetings, %s\" % char\n",
      "greet.__doc__ = greet.__doc__.format(char_list=CHARACTERS)"
     ],
     "language": "python",
     "metadata": {
      "slideshow": {
       "slide_type": "fragment"
      }
     },
     "outputs": [],
     "prompt_number": 43
    },
    {
     "cell_type": "code",
     "collapsed": false,
     "input": [
      "help(greet)"
     ],
     "language": "python",
     "metadata": {
      "slideshow": {
       "slide_type": "fragment"
      }
     },
     "outputs": [
      {
       "output_type": "stream",
       "stream": "stdout",
       "text": [
        "Help on function greet in module __main__:\n",
        "\n",
        "greet(char)\n",
        "    Prints a greeting to <char> if <char> is recognised, else it tells you to go away.\n",
        "    Allowed chars are:\n",
        "    ('milkman', 'raz', 'secret agent')\n",
        "\n"
       ]
      }
     ],
     "prompt_number": 44
    },
    {
     "cell_type": "raw",
     "metadata": {},
     "source": [
      "<br/><br/><br/><br/><br/><br/><br/><br/><br/><br/><br/><br/><br/><br/><br/><br/>"
     ]
    },
    {
     "cell_type": "markdown",
     "metadata": {
      "slideshow": {
       "slide_type": "slide"
      }
     },
     "source": [
      "## Docstrings as properties\n",
      "\n",
      "<div align=\"right\">*possibly dangerous</div>"
     ]
    },
    {
     "cell_type": "code",
     "collapsed": false,
     "input": [
      "class ClassProperty(property):\n",
      "    '''Builtin property only works on instance attributes'''\n",
      "    def __get__(self, cls, owner):\n",
      "        return self.fget.__get__(None, owner)()\n",
      "    \n",
      "class greet():\n",
      "    '''Unused Docstring for Class'''\n",
      "    @ClassProperty\n",
      "    @classmethod\n",
      "    def __doc__(cls):\n",
      "        print \"GENERATING DOCSTRING LAZILY!\\n\"\n",
      "        return \"The generated docstring\"\n",
      "\n"
     ],
     "language": "python",
     "metadata": {
      "slideshow": {
       "slide_type": "fragment"
      }
     },
     "outputs": [],
     "prompt_number": 97
    },
    {
     "cell_type": "code",
     "collapsed": false,
     "input": [
      "help(greet)"
     ],
     "language": "python",
     "metadata": {
      "slideshow": {
       "slide_type": "fragment"
      }
     },
     "outputs": [
      {
       "output_type": "stream",
       "stream": "stdout",
       "text": [
        "GENERATING DOCSTRING LAZILY!\n",
        "\n",
        "Help on class greet in module __main__:\n",
        "\n",
        "class greet\n",
        " |  The generated docstring\n",
        "\n"
       ]
      }
     ],
     "prompt_number": 98
    },
    {
     "cell_type": "raw",
     "metadata": {},
     "source": [
      "<br/><br/><br/><br/><br/><br/><br/><br/><br/><br/><br/><br/><br/><br/><br/><br/>"
     ]
    },
    {
     "cell_type": "markdown",
     "metadata": {
      "slideshow": {
       "slide_type": "slide"
      }
     },
     "source": [
      "# Sphinx\n",
      "\n",
      "<br/>\n",
      "![](images/sphinx-logo.png)\n",
      "\n",
      "<br/>\n",
      "<h2 align=\"middle\"><a href=\"http://sphinx-doc.org/\">http://sphinx-doc.org/</a></h2>"
     ]
    },
    {
     "cell_type": "raw",
     "metadata": {},
     "source": [
      "<br/><br/><br/><br/><br/><br/><br/><br/><br/><br/><br/><br/><br/><br/><br/><br/>"
     ]
    },
    {
     "cell_type": "markdown",
     "metadata": {
      "slideshow": {
       "slide_type": "slide"
      }
     },
     "source": [
      "# reStructuredText\n",
      "\n",
      "<br/><br/>\n",
      "![](images/rst.png)\n",
      "\n",
      "<br/><br/>\n",
      "<h2 align=\"middle\"><a href=\"http://docutils.sourceforge.net/rst.html\">http://docutils.sourceforge.net/rst.html</a></h2>"
     ]
    },
    {
     "cell_type": "raw",
     "metadata": {},
     "source": [
      "<br/><br/><br/><br/><br/><br/><br/><br/><br/><br/><br/><br/><br/><br/><br/><br/>"
     ]
    },
    {
     "cell_type": "markdown",
     "metadata": {
      "slideshow": {
       "slide_type": "slide"
      }
     },
     "source": [
      "## reST - Formatting\n",
      "\n",
      "reStructuredText is a markup that has been designed to be more capable, it has common formatting rules:\n",
      "\n",
      "    Captions are underlined\n",
      "    -----------------------\n",
      "\n",
      "    * Bullet list\n",
      "    \n",
      "      1. Nested numbered list\n",
      "\n",
      "    *Italic* **Bold** ``Text``\n",
      "\n",
      "    ..\n",
      "       Commented block\n",
      "       \n",
      "    etc..."
     ]
    },
    {
     "cell_type": "raw",
     "metadata": {},
     "source": [
      "<br/><br/><br/><br/><br/><br/><br/><br/><br/><br/><br/><br/><br/><br/><br/><br/>"
     ]
    },
    {
     "cell_type": "markdown",
     "metadata": {
      "slideshow": {
       "slide_type": "slide"
      }
     },
     "source": [
      "## reST - Directives\n",
      "\n",
      "reStructuredText also has directives, which are the more powerful aspect. You can define your own `directive_types`.\n",
      "\n",
      "    .. directive_type: name\n",
      "       :paramaters:\n",
      "       \n",
      "       content\n",
      "\n",
      "Example of a csv-table directive:\n",
      "\n",
      "    .. csv-table:: Frozen Delights!\n",
      "       :header: \"Treat\", \"Quantity\", \"Description\"\n",
      "       :widths: 15, 10, 30\n",
      "\n",
      "       \"Albatross\", 2.99, \"On a stick!\"\n",
      "       \"Crunchy Frog\", 1.49, \"If we took the bones out, it wouldn't be\n",
      "       crunchy, now would it?\"\n",
      "       \"Gannet Ripple\", 1.99, \"On a stick!\""
     ]
    },
    {
     "cell_type": "raw",
     "metadata": {},
     "source": [
      "<br/><br/><br/><br/><br/><br/><br/><br/><br/><br/><br/><br/><br/><br/><br/><br/>"
     ]
    },
    {
     "cell_type": "markdown",
     "metadata": {
      "slideshow": {
       "slide_type": "slide"
      }
     },
     "source": [
      "# Is that it?\n",
      "\n",
      "Sphinx doesn\u2019t do any of the magic that Doxygen/JavaDoc does for you.\n",
      "\n",
      "It doesn\u2019t want to constrain what your documentation can be.\n",
      "\n",
      "It allows you to \u201cscript\u201d your documentation.\n"
     ]
    },
    {
     "cell_type": "raw",
     "metadata": {},
     "source": [
      "<br/><br/><br/><br/><br/><br/><br/><br/><br/><br/><br/><br/><br/><br/><br/><br/>"
     ]
    },
    {
     "cell_type": "markdown",
     "metadata": {
      "slideshow": {
       "slide_type": "slide"
      }
     },
     "source": [
      "# Sphinx Plugins\n",
      "\n",
      "Many forms:\n",
      "\n",
      "One can control the documentation generated using directives.\n",
      "\n",
      "    .. toctree::\n",
      "       :maxdepth: 2\n",
      "\n",
      "       intro\n",
      "       strings\n",
      "       (many more documents listed here)\n",
      "\n",
      "Some libraries will generate reST documentation that you can include in the documentation project.\n",
      "\n",
      "    .. include:: behave/steps_usage.rst\n"
     ]
    },
    {
     "cell_type": "raw",
     "metadata": {},
     "source": [
      "<br/><br/><br/><br/><br/><br/><br/><br/><br/><br/><br/><br/><br/><br/><br/><br/>"
     ]
    },
    {
     "cell_type": "markdown",
     "metadata": {
      "slideshow": {
       "slide_type": "slide"
      }
     },
     "source": [
      "# Sphinx Plugins - Examples\n",
      "\n",
      "* autodoc\n",
      "\n",
      "* doctests\n"
     ]
    },
    {
     "cell_type": "raw",
     "metadata": {},
     "source": [
      "<br/><br/><br/><br/><br/><br/><br/><br/><br/><br/><br/><br/><br/><br/><br/><br/>"
     ]
    },
    {
     "cell_type": "markdown",
     "metadata": {
      "slideshow": {
       "slide_type": "slide"
      }
     },
     "source": [
      "# So, what does this buy us?\n"
     ]
    },
    {
     "cell_type": "raw",
     "metadata": {},
     "source": [
      "<br/><br/><br/><br/><br/><br/><br/><br/><br/><br/><br/><br/><br/><br/><br/><br/>"
     ]
    },
    {
     "cell_type": "markdown",
     "metadata": {
      "slideshow": {
       "slide_type": "slide"
      }
     },
     "source": [
      "# Keeping docs up to date.\n"
     ]
    },
    {
     "cell_type": "raw",
     "metadata": {},
     "source": [
      "<br/><br/><br/><br/><br/><br/><br/><br/><br/><br/><br/><br/><br/><br/><br/><br/>"
     ]
    },
    {
     "cell_type": "markdown",
     "metadata": {
      "slideshow": {
       "slide_type": "slide"
      }
     },
     "source": [
      "# DocTests"
     ]
    },
    {
     "cell_type": "raw",
     "metadata": {},
     "source": [
      "<br/><br/><br/><br/><br/><br/><br/><br/><br/><br/><br/><br/><br/><br/><br/><br/>"
     ]
    },
    {
     "cell_type": "markdown",
     "metadata": {
      "slideshow": {
       "slide_type": "slide"
      }
     },
     "source": [
      "# Generating docs off tests."
     ]
    },
    {
     "cell_type": "raw",
     "metadata": {},
     "source": [
      "<br/><br/><br/><br/><br/><br/><br/><br/><br/><br/><br/><br/><br/><br/><br/><br/>"
     ]
    },
    {
     "cell_type": "markdown",
     "metadata": {
      "slideshow": {
       "slide_type": "slide"
      }
     },
     "source": []
    },
    {
     "cell_type": "markdown",
     "metadata": {},
     "source": []
    },
    {
     "cell_type": "markdown",
     "metadata": {},
     "source": []
    },
    {
     "cell_type": "markdown",
     "metadata": {},
     "source": []
    }
   ],
   "metadata": {}
  }
 ]
}